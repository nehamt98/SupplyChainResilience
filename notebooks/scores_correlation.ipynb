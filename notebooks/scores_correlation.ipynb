{
 "cells": [
  {
   "cell_type": "markdown",
   "id": "911aeead-4aa5-4a79-9474-0cb2540491bf",
   "metadata": {},
   "source": [
    "# Correlation between the scores"
   ]
  },
  {
   "cell_type": "code",
   "execution_count": null,
   "id": "2cb829ec-3413-4999-a19d-7272af4981ce",
   "metadata": {},
   "outputs": [],
   "source": [
    "# Required Libraries\n",
    "import pandas as pd\n",
    "import requests\n",
    "import time\n",
    "\n",
    "# Fetch Countries Based on Partner Data\n",
    "def fetch_countries(api_key):\n",
    "    headers = {\"Ocp-Apim-Subscription-Key\": api_key}\n",
    "    url = \"https://comtradeapi.un.org/data/v1/get/C/A/HS\"\n",
    "    params = {\n",
    "        \"reporterCode\": \"\",  # UK as sample\n",
    "        \"period\": 2022,\n",
    "        \"flowCode\": \"M\",\n",
    "        \"cmdCode\": \"TOTAL\",\n",
    "        \"freq\": \"A\",\n",
    "        \"breakdownMode\": \"classic\",\n",
    "        \"includeDesc\": True\n",
    "    }\n",
    "    try:\n",
    "        res = requests.get(url, params=params, headers=headers)\n",
    "        if res.status_code == 200:\n",
    "            data = res.json().get(\"data\", [])\n",
    "            partners = sorted(list({\n",
    "                rec[\"partnerCode\"]: rec[\"partnerDesc\"]\n",
    "                for rec in data if rec.get(\"partnerCode\") and rec.get(\"partnerDesc\")\n",
    "            }.items()), key=lambda x: x[1])\n",
    "            return [{\"label\": f\"{name} ({code})\", \"value\": str(code)} for code, name in partners]\n",
    "    except Exception as e:\n",
    "        print(\"❌ Exception while fetching countries:\", e)\n",
    "    return []\n",
    "\n",
    "# === Helper Functions ===\n",
    "def fetch_comtrade_data(params, api_key, retries=3):\n",
    "    headers = {\"Ocp-Apim-Subscription-Key\": api_key}\n",
    "    for attempt in range(retries):\n",
    "        try:\n",
    "            response = requests.get(\"https://comtradeapi.un.org/data/v1/get/C/A/HS\", params=params, headers=headers)\n",
    "            if response.status_code == 200:\n",
    "                return response.json().get(\"data\", [])\n",
    "            elif response.status_code == 429:\n",
    "                time.sleep(5 * (attempt + 1))\n",
    "        except requests.exceptions.RequestException as e:\n",
    "            print(\"Connection error:\", e)\n",
    "    return []\n",
    "\n",
    "def is_valid_partner(partner):\n",
    "    if not partner:\n",
    "        return False\n",
    "    partner = partner.lower()\n",
    "    return not any(x in partner for x in [\"world\"])\n",
    "\n",
    "def get_trade_partners(reporter, flow, hs_code, year, api_key):\n",
    "    params = {\n",
    "        \"reporterCode\": reporter,\n",
    "        \"period\": year,\n",
    "        \"flowCode\": flow,\n",
    "        \"cmdCode\": hs_code,\n",
    "        \"freq\": \"A\",\n",
    "        \"breakdownMode\": \"classic\",\n",
    "        \"includeDesc\": True\n",
    "    }\n",
    "    data = fetch_comtrade_data(params, api_key)\n",
    "    partner_values = {}\n",
    "    for rec in data:\n",
    "        partner = rec.get(\"partnerDesc\")\n",
    "        value = rec.get(\"primaryValue\")\n",
    "        if is_valid_partner(partner) and value:\n",
    "            try:\n",
    "                val = float(value)\n",
    "                if val > 0:\n",
    "                    partner_values[partner] = partner_values.get(partner, 0) + val\n",
    "            except ValueError:\n",
    "                continue\n",
    "    return partner_values\n",
    "\n",
    "def calculate_scri(imports, exports):\n",
    "    M = sum(imports.values())\n",
    "    X = sum(exports.values())\n",
    "    N = len(imports)\n",
    "    HHI = sum((v / M) ** 2 for v in imports.values()) if M > 0 else 0.0\n",
    "    DiversityScore = min(N / 193.0, 1.0)\n",
    "    IDI = max(min((M - X) / M, 1.0), 0.0) if M > 0 else 0.0\n",
    "    SCRI = round(HHI * (1 - DiversityScore) * IDI, 4)\n",
    "    return {\n",
    "        \"Total Imports\": M,\n",
    "        \"Total Exports\": X,\n",
    "        \"HHI\": round(HHI, 4),\n",
    "        \"Diversity Score\": round(DiversityScore, 4),\n",
    "        \"IDI\": round(IDI, 4),\n",
    "        \"SCRI\": SCRI,\n",
    "        \"Import Partners\": N\n",
    "    }\n"
   ]
  },
  {
   "cell_type": "code",
   "execution_count": null,
   "id": "01598893-55b8-4d13-be4c-26cce648c63d",
   "metadata": {},
   "outputs": [],
   "source": [
    "api_key = \"\" # Enter your api_key here\n",
    "# Get the list of countries\n",
    "countries = fetch_countries(api_key)"
   ]
  },
  {
   "cell_type": "code",
   "execution_count": 64,
   "id": "89d5f02d-cb8a-43cb-97c1-46ff194d4cab",
   "metadata": {},
   "outputs": [],
   "source": [
    "# Get the scores for 100 countries\n",
    "scri_dict = {}\n",
    "hs_code = 8541 # Semiconductors\n",
    "year = 2022\n",
    "for country in countries[:100]:\n",
    "    import_data = get_trade_partners(country['value'], \"M\", hs_code, year, api_key)\n",
    "    export_data = get_trade_partners(country['value'], \"X\", hs_code, year, api_key)\n",
    "    # Append the score only if import and export data exist\n",
    "    if import_data and export_data:\n",
    "        scri_result = calculate_scri(import_data, export_data)\n",
    "        scri_dict[country['label']] = scri_result"
   ]
  },
  {
   "cell_type": "code",
   "execution_count": 100,
   "id": "0a34b8aa-232a-44fd-81b7-bedcca4d6ea2",
   "metadata": {},
   "outputs": [
    {
     "name": "stdout",
     "output_type": "stream",
     "text": [
      "Number of countries for which the scores were calculated : 58\n"
     ]
    }
   ],
   "source": [
    "# Check the number of countries for which the score is calculated\n",
    "print(\"Number of countries for which the scores were calculated :\", len(scri_dict))"
   ]
  },
  {
   "cell_type": "code",
   "execution_count": 87,
   "id": "165d5b0d-012c-48f6-8f50-1800f2ff8a97",
   "metadata": {},
   "outputs": [
    {
     "name": "stdout",
     "output_type": "stream",
     "text": [
      "                      HHI  Diversity_score       IDI\n",
      "HHI              1.000000        -0.155706  0.211874\n",
      "Diversity_score -0.155706         1.000000 -0.548356\n",
      "IDI              0.211874        -0.548356  1.000000\n"
     ]
    }
   ],
   "source": [
    "# Calculate the correlation matrix\n",
    "filtered_scores = [\n",
    "    {\n",
    "        'HHI': scores['HHI'],\n",
    "        'Diversity_score': scores['Diversity Score'],\n",
    "        'IDI': scores['IDI']\n",
    "    }\n",
    "    for scores in scri_dict.values()\n",
    "]\n",
    "scores_df = pd.DataFrame(filtered_scores)\n",
    "correlation_matrix = scores_df.corr()\n",
    "print(correlation_matrix)"
   ]
  },
  {
   "cell_type": "code",
   "execution_count": 89,
   "id": "69f08e9b-4b34-4586-95c9-c08148e7fac9",
   "metadata": {},
   "outputs": [
    {
     "data": {
      "image/png": "[encoded data removed]",
      "text/plain": [
       "<Figure size 800x600 with 2 Axes>"
      ]
     },
     "metadata": {},
     "output_type": "display_data"
    }
   ],
   "source": [
    "# Plot the correlation\n",
    "import seaborn as sns\n",
    "import matplotlib.pyplot as plt\n",
    "\n",
    "plt.figure(figsize = (8,6))\n",
    "sns.heatmap(correlation_matrix, annot=True, cmap='coolwarm', fmt=\".2f\")\n",
    "plt.title('Correlation between the 3 scores')\n",
    "plt.show()"
   ]
  },
  {
   "cell_type": "markdown",
   "id": "1b39ca0c-d0a3-4852-ac87-2271671a8bba",
   "metadata": {},
   "source": [
    "To ensure the three chosen metrics - Herfindahl-Hirschman Index (HHI), Supplier Diversity Score (S), and Import Dependency Index (IDI) add unique value to the final risk calculation, a correlation analysis was carried out. We began with data for 100 countries for trade of semiconductors in the year 2022, of which 58 had sufficient import-export data. For these, the three scores were computed and compared.\n",
    "\n",
    "The goal was to assess whether any of the metrics were redundant—that is, if two scores were highly correlated, they might be capturing the same aspect of supply chain risk. The highest observed correlation was –0.55 between IDI and the diversity score, suggesting that in some cases, countries that rely heavily on imports may also tend to have fewer supplier sources. However, this correlation was moderate at best and not strong enough to justify removing either variable. The remaining correlations were even lower, supporting the decision to retain all three scores.\n",
    "\n",
    "This multiplicative approach ensures that high risk only emerges when all three factors contribute, and that low risk in one dimension can offset vulnerabilities in another. It reflects the compounding nature of supply chain risk and keeps the score within a clear 0–1 range."
   ]
  }
 ],
 "metadata": {
  "kernelspec": {
   "display_name": "Python 3 (ipykernel)",
   "language": "python",
   "name": "python3"
  },
  "language_info": {
   "codemirror_mode": {
    "name": "ipython",
    "version": 3
   },
   "file_extension": ".py",
   "mimetype": "text/x-python",
   "name": "python",
   "nbconvert_exporter": "python",
   "pygments_lexer": "ipython3",
   "version": "3.12.2"
  }
 },
 "nbformat": 4,
 "nbformat_minor": 5
}
